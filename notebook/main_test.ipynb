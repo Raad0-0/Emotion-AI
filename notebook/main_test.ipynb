{
 "cells": [
  {
   "cell_type": "code",
   "execution_count": 6,
   "id": "875aaf49",
   "metadata": {},
   "outputs": [],
   "source": [
    "import gradio as gr\n",
    "from main_logic import detect_audio_emotion,detect_text_emotion\n",
    "\n",
    "\n",
    "# text = \"I've fallen Asleeep a lot faster but I also feel like so funny\"\n",
    "# print(f\"Text Emotion: {detect_text_emotion(text)}\")\n",
    "\n",
    "# audio =  'C:/Users/raada/Documents/Pray&Hope/data/predict_test/03-01-06-01-02-01-01.wav'\n",
    "# print(f\"Audio Emotion: {detect_audio_emotion(audio)}\")\n",
    "\n",
    "def predict(input_type, input_data):\n",
    "    if input_type == \"Text\":\n",
    "        return detect_text_emotion(input_data)\n",
    "    else:\n",
    "        return detect_audio_emotion(input_data)\n",
    "    \n",
    "    with gr.Blocks() as demo:\n",
    "        gr.Markdown(\"# Unified Emptoion Detection\")\n",
    "        with gr.Tabs():\n",
    "            with gr.TabItem(\"Text\"):\n",
    "                text_input = gr.Textbox(label=\"Enter your text\")\n",
    "                text_button =gr.Button(\"Detect Emotion\")\n",
    "                text_output = gr.Textbox(label = \"Predicted Emotion\")\n",
    "                \n",
    "                text_button.click(\n",
    "                    fn = lambda t: detect_text_emotion(t),\n",
    "                    imputs=text_input,\n",
    "                    outputs=text_output\n",
    "                )\n",
    "\n",
    "\n",
    "            with gr.TabItem(\"Audio\"):\n",
    "                audio_input = gr.Audio( type =\"filepath\", label=\"Upload your audio file\")\n",
    "                auido_output = gr.Textbox( label=\"Predicted Emotion\")\n",
    "            \n",
    "                audio_button.click(\n",
    "                    fn = lambda a: detect_audio_emotion(a),\n",
    "                    inputs=audio_input,\n",
    "                    outputs=auido_output\n",
    "                )\n",
    "\n",
    "    demo.launch()"
   ]
  }
 ],
 "metadata": {
  "kernelspec": {
   "display_name": "venv",
   "language": "python",
   "name": "python3"
  },
  "language_info": {
   "codemirror_mode": {
    "name": "ipython",
    "version": 3
   },
   "file_extension": ".py",
   "mimetype": "text/x-python",
   "name": "python",
   "nbconvert_exporter": "python",
   "pygments_lexer": "ipython3",
   "version": "3.12.6"
  }
 },
 "nbformat": 4,
 "nbformat_minor": 5
}
